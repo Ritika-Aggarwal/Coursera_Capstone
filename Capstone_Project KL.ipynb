{
    "nbformat_minor": 1, 
    "cells": [
        {
            "source": "# IBM Data Science Professional Specialization - Coursera\n\nThis notebook is for the capstone project for the 9-courses specialization in Data Science of IBM\nPlatform Coursera. Data Science Specialization\nK Layell\n\nAugust 2019", 
            "cell_type": "markdown", 
            "metadata": {
                "collapsed": true
            }
        }, 
        {
            "execution_count": null, 
            "cell_type": "code", 
            "metadata": {}, 
            "outputs": [], 
            "source": ""
        }
    ], 
    "metadata": {
        "kernelspec": {
            "display_name": "Python 3.6", 
            "name": "python3", 
            "language": "python"
        }, 
        "language_info": {
            "mimetype": "text/x-python", 
            "nbconvert_exporter": "python", 
            "version": "3.6.8", 
            "name": "python", 
            "file_extension": ".py", 
            "pygments_lexer": "ipython3", 
            "codemirror_mode": {
                "version": 3, 
                "name": "ipython"
            }
        }
    }, 
    "nbformat": 4
}